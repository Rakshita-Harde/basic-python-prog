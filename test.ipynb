{
 "cells": [
  {
   "cell_type": "code",
   "execution_count": 11,
   "id": "13263e9d-60a8-4753-8987-f5ede338f443",
   "metadata": {},
   "outputs": [
    {
     "name": "stdin",
     "output_type": "stream",
     "text": [
      "Enter the total amount of Bill 600\n"
     ]
    },
    {
     "name": "stdout",
     "output_type": "stream",
     "text": [
      "final_bill: 570.0\n"
     ]
    }
   ],
   "source": [
    "#1 A bakery offers a 5% discount on orders above ₹500. Ask the user to enter total bill \n",
    "amount and calculate final price after discount (if applicable). \n",
    "total_bill= int(input(\"Enter the total amount of Bill\"))\n",
    "order = total_bill\n",
    "if order>= 500:\n",
    "  discount = order*0.05\n",
    "  final_bill = order - discount \n",
    "  print(f\"final_bill: {final_bill}\")\n",
    "else: \n",
    "  print(f\"total_bill: {total_bill}\")"
   ]
  },
  {
   "cell_type": "code",
   "execution_count": 41,
   "id": "9a358ee4-eed0-481d-b565-ad5b55bca253",
   "metadata": {},
   "outputs": [
    {
     "name": "stdin",
     "output_type": "stream",
     "text": [
      "enter the marks in subject 1 50\n",
      "enter the marks in subject 2 30\n",
      "enter the marks in subject 3 20\n"
     ]
    },
    {
     "name": "stdout",
     "output_type": "stream",
     "text": [
      "FAIL\n"
     ]
    }
   ],
   "source": [
    "#2 Given the marks in 3 subjects, calculate and print the result as PASS or FAIL A student passes only if all marks are >= 35. \n",
    "\n",
    "m1=int(input(\"enter the marks in subject 1\"))\n",
    "m2=int(input(\"enter the marks in subject 2\"))\n",
    "m3=int(input(\"enter the marks in subject 3\"))\n",
    "\n",
    "if m1 >= 35 and m2 >= 35 and m3 >= 35:\n",
    "        print(\"PASS\")\n",
    "else:\n",
    "        print(\"FAIL\")"
   ]
  },
  {
   "cell_type": "code",
   "execution_count": 31,
   "id": "503d3493-99c3-4f7a-8d28-f4cf7fd569df",
   "metadata": {},
   "outputs": [
    {
     "name": "stdin",
     "output_type": "stream",
     "text": [
      "enter the number od days 9\n"
     ]
    },
    {
     "name": "stdout",
     "output_type": "stream",
     "text": [
      "late_fees:  45\n"
     ]
    }
   ],
   "source": [
    "#4 A person gets a fine if they return a library book late. First 5 days: ₹2/day, next 5 days: ₹5/day, after that: ₹10/day. Calculate the  fine based on days late.  \n",
    "late_fees= int(input(\"enter the number od days\"))\n",
    "days= late_fees\n",
    "if days <= 5:\n",
    " fees = days*2\n",
    "elif days <= 10:\n",
    " fees = days*5 \n",
    "else:\n",
    " fees= days*10 \n",
    "print(\"late_fees: \",fees)"
   ]
  },
  {
   "cell_type": "code",
   "execution_count": 39,
   "id": "050ce903-a40a-43ef-889a-1a693faaba6a",
   "metadata": {},
   "outputs": [
    {
     "name": "stdin",
     "output_type": "stream",
     "text": [
      "enter side 1 5\n",
      "enter side 2 6\n",
      "enter side 3 6\n"
     ]
    },
    {
     "name": "stdout",
     "output_type": "stream",
     "text": [
      "triangle is possible\n"
     ]
    }
   ],
   "source": [
    "#5.Write a function that accepts three side lengths and returns True if they can form a \n",
    "triangle (use triangle inequality). \n",
    "a=float(input(\"enter side 1\"))\n",
    "b=float(input(\"enter side 2\"))\n",
    "c=float(input(\"enter side 3\"))\n",
    "\n",
    "if a+b>c and b+c>a and c+a>b:\n",
    "        print(\"triangle is possible\")\n",
    "\n",
    "else:\n",
    "        print(\"triangle is not possible\")"
   ]
  },
  {
   "cell_type": "code",
   "execution_count": 43,
   "id": "5da4c714-d7ec-4e64-bd81-7e11923f91c7",
   "metadata": {},
   "outputs": [
    {
     "name": "stdin",
     "output_type": "stream",
     "text": [
      "enter the first number 25\n",
      "enter the second number 60\n",
      "enter the third number 75\n",
      "enter the fourth number 30\n"
     ]
    },
    {
     "name": "stdout",
     "output_type": "stream",
     "text": [
      "second leargest number is : 60\n"
     ]
    }
   ],
   "source": [
    "#6 Write a function that accepts three side lengths and returns True if they can form a \n",
    "#triangle (use triangle inequality).\n",
    "\n",
    "def second_largest(a,b,c,d):\n",
    "    numbers = [a,b,c,d]\n",
    "    largest = max(numbers)\n",
    "    numbers.remove(largest)\n",
    "    return max(numbers)\n",
    "\n",
    "num1 = int(input(\"enter the first number\"))\n",
    "num2 = int(input(\"enter the second number\"))\n",
    "num3 = int(input(\"enter the third number\"))\n",
    "num4 = int(input(\"enter the fourth number\"))\n",
    "\n",
    "result = second_largest(num1,num2,num3,num4)\n",
    "print(\"second leargest number is :\",result)\n"
   ]
  },
  {
   "cell_type": "code",
   "execution_count": 51,
   "id": "7bd5026e-c435-4998-a085-0c27271e6b8c",
   "metadata": {},
   "outputs": [
    {
     "name": "stdin",
     "output_type": "stream",
     "text": [
      "enter day number (1-7) 5\n"
     ]
    },
    {
     "name": "stdout",
     "output_type": "stream",
     "text": [
      "weekday\n"
     ]
    }
   ],
   "source": [
    "# 3. Write a program that reads a day number (1-7) and prints whether it's a weekday or weekend. Handle invalid inputs as well\n",
    "\n",
    "day= int(input(\"enter day number (1-7)\"))\n",
    "if day == 6 or day == 7:\n",
    "     print(\"weekend\")\n",
    "else:\n",
    "     print(\"weekday\")\n",
    "\n"
   ]
  },
  {
   "cell_type": "code",
   "execution_count": 57,
   "id": "a138d839-349b-412a-880c-135659849810",
   "metadata": {},
   "outputs": [
    {
     "name": "stdin",
     "output_type": "stream",
     "text": [
      "enter the student score separated by space: 50 100 20 60 75 0\n"
     ]
    },
    {
     "name": "stdout",
     "output_type": "stream",
     "text": [
      "score above 60 : [100, 75]\n"
     ]
    }
   ],
   "source": [
    "#8. Use filter() to extract scores above 60 from a list of student scores. \n",
    "\n",
    "score = list(map(int,input(\"enter the student score separated by space:\").split()))\n",
    "\n",
    "above_60 = list(filter(lambda x: x > 60 , score))\n",
    "\n",
    "print(\"score above 60 :\", above_60)"
   ]
  },
  {
   "cell_type": "code",
   "execution_count": null,
   "id": "20e58eea-ac34-48c8-8807-fb5daef64cec",
   "metadata": {},
   "outputs": [],
   "source": [
    "# Write a program that takes a sentence and prints the word with the highest number of vowels. \n",
    "\n",
    "def count_vowels(word):\n",
    "    vowels = 'aeiouAEIOU'\n",
    "    "
   ]
  },
  {
   "cell_type": "code",
   "execution_count": null,
   "id": "ab0b89ee-6c9d-40e7-af4f-e4e594f87fe2",
   "metadata": {},
   "outputs": [],
   "source": []
  },
  {
   "cell_type": "code",
   "execution_count": null,
   "id": "852561be-df0d-4f3b-941c-5ee9097df55a",
   "metadata": {},
   "outputs": [],
   "source": []
  }
 ],
 "metadata": {
  "kernelspec": {
   "display_name": "Python [conda env:base] *",
   "language": "python",
   "name": "conda-base-py"
  },
  "language_info": {
   "codemirror_mode": {
    "name": "ipython",
    "version": 3
   },
   "file_extension": ".py",
   "mimetype": "text/x-python",
   "name": "python",
   "nbconvert_exporter": "python",
   "pygments_lexer": "ipython3",
   "version": "3.12.7"
  }
 },
 "nbformat": 4,
 "nbformat_minor": 5
}
